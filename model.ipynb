{
 "cells": [
  {
   "cell_type": "code",
   "execution_count": null,
   "id": "aee462a2-7180-4d91-86cd-36c05a00a284",
   "metadata": {},
   "outputs": [],
   "source": [
    "import torchvision\n",
    "from torchvision import models\n",
    "\n",
    "DEVICE = \"mps\" if torch.backends.mps.is_available() else \"cpu\"\n",
    "img_transform = transforms.Compose([\n",
    "    transforms.Resize(size=(224, 224)),\n",
    "    transforms.RandomHorizontalFlip(),\n",
    "    transforms.ToTensor(),\n",
    "    transforms.Normalize(mean=[0.5108, 0.4829, 0.3989], std=[0.2632, 0.2587, 0.2706])\n",
    "])\n",
    "\n",
    "model = models.alexnet(weights=\"IMAGENET1K_V1\", progress=True)\n",
    "\n",
    "bboxes = selective_search(sample_img_path)\n",
    "img = cv2.imread(sample_img_path, cv2.IMREAD_COLOR)\n",
    "gs = selectivesearch.get_selective_search()\n",
    "\n",
    "dst = copy.deepcopy(img)\n",
    "\n",
    "bndboxs = util.parse_xml(test_xml_path)\n",
    "for bndbox in bndboxs:\n",
    "    xmin, ymin, xmax, ymax = bndbox\n",
    "    cv2.rectangle(dst, (xmin, ymin), (xmax, ymax), color=(0, 255, 0), thickness=1)\n",
    "\n",
    "selectivesearch.config(gs, img, strategy='f')\n",
    "rects = selectivesearch.get_rects(gs)\n",
    "\n",
    "svm_thresh = 0.60\n",
    "\n",
    "score_list = list()\n",
    "positive_list = list()\n",
    "start = time.time()\n",
    "\n",
    "for rect in rects:\n",
    "    xmin, ymin, xmax, ymax = rect\n",
    "    rect_img = img[ymin:ymax, xmin:xmax]\n",
    "\n",
    "    rect_transform = transform(rect_img).to(device)\n",
    "    output = model(rect_transform.unsqueeze(0))[0]\n",
    "\n",
    "    if torch.argmax(output).item() == 1:\n",
    "        probs = torch.softmax(output, dim=0).cpu().numpy()\n",
    "        \n",
    "        if probs[1] >= svm_thresh:\n",
    "                score_list.append(probs[1])\n",
    "                positive_list.append(rect)\n",
    "                print(rect, output, probs)\n",
    "end = time.time()\n",
    "nms_rects, nms_scores = nms(positive_list, score_list)\n",
    "print(nms_rects)\n",
    "print(nms_scores)\n",
    "draw_box_with_text(dst, nms_rects, nms_scores)\n",
    "\n",
    "cv2.imshow('img', dst)\n",
    "cv2.waitKey(0)"
   ]
  }
 ],
 "metadata": {
  "kernelspec": {
   "display_name": "Python (env)",
   "language": "python",
   "name": "env"
  },
  "language_info": {
   "codemirror_mode": {
    "name": "ipython",
    "version": 3
   },
   "file_extension": ".py",
   "mimetype": "text/x-python",
   "name": "python",
   "nbconvert_exporter": "python",
   "pygments_lexer": "ipython3",
   "version": "3.8.19"
  }
 },
 "nbformat": 4,
 "nbformat_minor": 5
}
